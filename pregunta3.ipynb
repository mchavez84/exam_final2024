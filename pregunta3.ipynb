{
  "nbformat": 4,
  "nbformat_minor": 0,
  "metadata": {
    "colab": {
      "provenance": [],
      "gpuType": "T4"
    },
    "kernelspec": {
      "name": "python3",
      "display_name": "Python 3"
    },
    "language_info": {
      "name": "python"
    },
    "accelerator": "GPU"
  },
  "cells": [
    {
      "cell_type": "code",
      "source": [
        "import tensorflow as tf\n",
        "from tensorflow.keras.models import Sequential\n",
        "from tensorflow.keras.layers import Dense\n",
        "import numpy as np # Import numpy and assign it the alias 'np'\n",
        "\n",
        "# Generar datos de entrenamiento\n",
        "km = [1, 2, 3, 4, 5, 6, 7, 8, 9, 10]\n",
        "millas = [0.621371, 1.242742, 1.864113, 2.485484, 3.106856, 3.728227, 4.349598, 4.970969, 5.59234, 6.21371]\n",
        "\n",
        "# Convertir listas a arreglos de NumPy\n",
        "km = np.array(km).reshape(-1, 1)\n",
        "millas = np.array(millas).reshape(-1, 1)\n",
        "\n",
        "# Crear el modelo secuencial\n",
        "model = Sequential([\n",
        "    Dense(units=1, input_shape=(1,))\n",
        "])\n",
        "\n",
        "# Compilar el modelo\n",
        "model.compile(loss='mean_squared_error', optimizer='adam')\n",
        "\n",
        "# Entrenar el modelo\n",
        "model.fit(km, millas, epochs=1000, verbose=0)\n",
        "\n",
        "# Hacer una predicción\n",
        "nueva_km = 15\n",
        "# Change this line to convert nueva_km to a NumPy array with the correct shape\n",
        "prediccion = model.predict(np.array([nueva_km]).reshape(1, -1))\n",
        "print(\"15 kilómetros son aproximadamente\", prediccion[0][0], \"millas\")\n"
      ],
      "metadata": {
        "colab": {
          "base_uri": "https://localhost:8080/"
        },
        "id": "NGO3TQy5kPfx",
        "outputId": "e71d74e1-02b5-4bd1-e480-c6159a6e8eb9"
      },
      "execution_count": null,
      "outputs": [
        {
          "output_type": "stream",
          "name": "stderr",
          "text": [
            "/usr/local/lib/python3.10/dist-packages/keras/src/layers/core/dense.py:87: UserWarning: Do not pass an `input_shape`/`input_dim` argument to a layer. When using Sequential models, prefer using an `Input(shape)` object as the first layer in the model instead.\n",
            "  super().__init__(activity_regularizer=activity_regularizer, **kwargs)\n"
          ]
        },
        {
          "output_type": "stream",
          "name": "stdout",
          "text": [
            "\u001b[1m1/1\u001b[0m \u001b[32m━━━━━━━━━━━━━━━━━━━━\u001b[0m\u001b[37m\u001b[0m \u001b[1m0s\u001b[0m 83ms/step\n",
            "15 kilómetros son aproximadamente -0.84804326 millas\n"
          ]
        }
      ]
    }
  ]
}